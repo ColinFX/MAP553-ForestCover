{
 "cells": [
  {
   "cell_type": "code",
   "execution_count": 2,
   "id": "1cca49f9",
   "metadata": {},
   "outputs": [],
   "source": [
    "import csv\n",
    "import json\n",
    "import warnings\n",
    "\n",
    "import numpy as np\n",
    "import pandas as pd\n",
    "from sklearn.metrics import accuracy_score\n",
    "from sklearn.model_selection import KFold, ParameterGrid\n",
    "from sklearn.preprocessing import OneHotEncoder\n",
    "from tqdm import tqdm\n",
    "from xgboost import XGBClassifier\n",
    "\n",
    "from typing import List, Dict\n",
    "\n",
    "import seaborn as sns\n",
    "import matplotlib.pyplot as plt\n",
    "\n",
    "from sklearn.pipeline import Pipeline, FeatureUnion\n",
    "from sklearn.preprocessing import StandardScaler\n",
    "\n",
    "from sklearn.linear_model import SGDClassifier\n",
    "from sklearn.svm import LinearSVC, SVC\n",
    "from sklearn.ensemble import RandomForestClassifier\n",
    "from sklearn.neural_network import MLPClassifier\n",
    "from sklearn.tree import ExtraTreeClassifier\n",
    "\n",
    "from sklearn.model_selection import GridSearchCV\n",
    "\n",
    "import lightgbm as lgb\n"
   ]
  },
  {
   "cell_type": "code",
   "execution_count": 3,
   "id": "891ad48b",
   "metadata": {},
   "outputs": [],
   "source": [
    "def soil_type_2_elu(soil_type: int) -> int:\n",
    "    assert 0 < soil_type < 41, \\\n",
    "        \"Soil type out of boundary 1~40.\"\n",
    "    code_dict = [\n",
    "        2702, 2703, 2704, 2705, 2706,\n",
    "        2717, 3501, 3502, 4201, 4703,\n",
    "        4704, 4744, 4758, 5101, 5151,\n",
    "        6101, 6102, 6731, 7101, 7102,\n",
    "        7103, 7201, 7202, 7700, 7701,\n",
    "        7702, 7709, 7710, 7745, 7746,\n",
    "        7755, 7756, 7757, 7790, 8703,\n",
    "        8707, 8708, 8771, 8772, 8776,\n",
    "        ]\n",
    "    return code_dict[soil_type - 1]\n",
    "\n",
    "\n",
    "def get_climatic_zone(elu: int) -> int:\n",
    "    res = elu // 1000\n",
    "    assert 0 < res <= 8, \"Climatic zone code out of boundary 1~8.\"\n",
    "    return res\n",
    "\n",
    "\n",
    "def get_geologic_zone(elu: int) -> int:\n",
    "    res = elu % 1000 // 100\n",
    "    assert 0 < res <= 8, \"Geologic zone code out of boundary 1~8.\"\n",
    "    return res\n",
    "\n",
    "\n",
    "def get_third_digit(elu: int) -> int:\n",
    "    return elu % 100 // 10\n",
    "\n",
    "\n",
    "def get_fourth_digit(elu: int) -> int:\n",
    "    return elu % 10\n",
    "\n",
    "\n",
    "def preprocess(df: pd.DataFrame, mode: str = \"train\") -> List[np.ndarray]:\n",
    "    \"\"\"\n",
    "    Preprocess the dataframe and return [X, y] without reshuffling nor rescaling.\n",
    "    X is of shape (n,d+2) and y is of shape (n).\n",
    "    The first column of X contains the ID of each record,\n",
    "    whilst the second column contains the area code of each record.\n",
    "    :param mode whether \"train\" or \"test\"\n",
    "    \"\"\"\n",
    "\n",
    "    # soil types\n",
    "    df.insert(loc=0, column=\"Soil_Type\", value=0)\n",
    "    for i in range(1, 41):\n",
    "        column_name = \"Soil_Type\" + str(i)\n",
    "        df.loc[df[column_name] == 1, \"Soil_Type\"] = i\n",
    "        df.drop(column_name, axis=1, inplace=True)\n",
    "\n",
    "    df[\"elu\"] = [soil_type_2_elu(i) for i in df[\"Soil_Type\"]]\n",
    "    df.drop(\"Soil_Type\", axis=1, inplace=True)\n",
    "\n",
    "    df[\"climatic_zone\"] = [get_climatic_zone(i) for i in df[\"elu\"]]\n",
    "    df[\"geologic_zone\"] = [get_geologic_zone(i) for i in df[\"elu\"]]\n",
    "    df[\"third_digit\"] = [get_third_digit(i) for i in df[\"elu\"]]\n",
    "    df[\"fourth_digit\"] = [get_fourth_digit(i) for i in df[\"elu\"]]\n",
    "    df.drop(\"elu\", axis=1, inplace=True)\n",
    "\n",
    "    # wilderness area\n",
    "    df.insert(loc=0, column=\"Wilderness_Area\", value=0)\n",
    "    for i in range(1, 5):\n",
    "        column_name = \"Wilderness_Area\" + str(i)\n",
    "        df.loc[df[column_name] == 1, \"Wilderness_Area\"] = i\n",
    "        df.drop(column_name, axis=1, inplace=True)\n",
    "\n",
    "    # reformat\n",
    "    ids = df[\"Id\"].to_numpy()\n",
    "    df.drop(\"Id\", axis=1, inplace=True)\n",
    "\n",
    "    if mode == \"train\":\n",
    "        y = df[\"Cover_Type\"].to_numpy()\n",
    "        df.drop(\"Cover_Type\", axis=1, inplace=True)\n",
    "    elif mode == \"test\":\n",
    "        y = None\n",
    "    else:\n",
    "        raise AssertionError(\"Unexpected mode, try \\\"train\\\" or \\\"test\\\" instead. \")\n",
    "\n",
    "    areas = df[\"Wilderness_Area\"].to_numpy()\n",
    "    df.drop(\"Wilderness_Area\", axis=1, inplace=True)\n",
    "\n",
    "\n",
    "    X = df.to_numpy()\n",
    "\n",
    "    # one hot encode\n",
    "    enc = OneHotEncoder(categories=[np.arange(1, 9), np.arange(1, 9), np.arange(0, 10), np.arange(0, 10)])\n",
    "    enc.fit(X[:, -4:])\n",
    "\n",
    "    X = np.concatenate((\n",
    "        ids.reshape(-1, 1),\n",
    "        areas.reshape(-1, 1),\n",
    "        X[:, :-4],\n",
    "        enc.transform(X[:, -4:]).toarray()\n",
    "    ), axis=1)\n",
    "\n",
    "    return [X, y]"
   ]
  },
  {
   "cell_type": "code",
   "execution_count": 5,
   "id": "97a6bec4",
   "metadata": {},
   "outputs": [],
   "source": [
    "df_train = pd.read_csv(\"./data/train.csv\")\n",
    "X, y = preprocess(df_train)"
   ]
  },
  {
   "cell_type": "code",
   "execution_count": 6,
   "id": "62e15552",
   "metadata": {
    "scrolled": true
   },
   "outputs": [
    {
     "name": "stdout",
     "output_type": "stream",
     "text": [
      "Fitting 5 folds for each of 1 candidates, totalling 5 fits\n",
      "[CV 1/5] END ..................................., score=0.883 total time=   2.0s\n",
      "[CV 2/5] END ..................................., score=0.896 total time=   2.0s\n",
      "[CV 3/5] END ..................................., score=0.895 total time=   2.3s\n",
      "[CV 4/5] END ..................................., score=0.892 total time=   1.9s\n",
      "[CV 5/5] END ..................................., score=0.885 total time=   1.8s\n"
     ]
    },
    {
     "data": {
      "text/plain": [
       "GridSearchCV(estimator=Pipeline(steps=[('scaler', StandardScaler()),\n",
       "                                       ('classifier', LGBMClassifier())]),\n",
       "             param_grid={}, scoring='accuracy', verbose=3)"
      ]
     },
     "execution_count": 6,
     "metadata": {},
     "output_type": "execute_result"
    }
   ],
   "source": [
    "# LGBMClassifier\n",
    "pipeline = Pipeline([('scaler', StandardScaler()),\n",
    "                     ('classifier', lgb.LGBMClassifier())\n",
    "                     ])\n",
    "\n",
    "param_grid = {\n",
    "}\n",
    "\n",
    "model = GridSearchCV(pipeline, param_grid, scoring='accuracy', verbose=3)\n",
    "model.fit(X, y)"
   ]
  },
  {
   "cell_type": "code",
   "execution_count": 7,
   "id": "aa219515",
   "metadata": {},
   "outputs": [],
   "source": [
    "df_test = pd.read_csv(\"./data/test-full.csv\")\n",
    "X_test, _ = preprocess(df_test, mode=\"test\")\n",
    "ids = [int(id) for id in X_test[:, 0]]"
   ]
  },
  {
   "cell_type": "code",
   "execution_count": 9,
   "id": "acee6354",
   "metadata": {},
   "outputs": [],
   "source": [
    "best_model = model.best_estimator_\n",
    "y_test = best_model.predict(X_test)\n",
    "df_result = pd.DataFrame(list(zip(ids, y_test)), columns=['Id', 'Cover_Type'])\n",
    "df_result.to_csv(\"./data/lgbm_pred.csv\", index=False)"
   ]
  },
  {
   "cell_type": "code",
   "execution_count": null,
   "id": "0b04f5d5",
   "metadata": {},
   "outputs": [],
   "source": []
  }
 ],
 "metadata": {
  "kernelspec": {
   "display_name": "Python 3 (ipykernel)",
   "language": "python",
   "name": "python3"
  },
  "language_info": {
   "codemirror_mode": {
    "name": "ipython",
    "version": 3
   },
   "file_extension": ".py",
   "mimetype": "text/x-python",
   "name": "python",
   "nbconvert_exporter": "python",
   "pygments_lexer": "ipython3",
   "version": "3.10.8"
  }
 },
 "nbformat": 4,
 "nbformat_minor": 5
}
